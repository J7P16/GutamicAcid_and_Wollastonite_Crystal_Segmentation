{
 "cells": [
  {
   "cell_type": "code",
   "execution_count": 2,
   "id": "10598856-1918-4270-99dc-d3fe97220e6c",
   "metadata": {},
   "outputs": [],
   "source": [
    "import cv2\n",
    "import os\n",
    "\n",
    "# Define paths\n",
    "image_folder = 'C:/Users/JohnC/Desktop/Molecule_Datasets/Bilateral_Filtered_Dataset/EasyViewer_100/Wollastonite/5_wt_%_100/'\n",
    "mask_folder = 'C:/Users/JohnC/Desktop/Molecule_Datasets/Bilateral_Filtered_Dataset/EasyViewer_100/Wollastonite/5_wt_%_100/masks'\n",
    "\n",
    "# Create directories if they don't exist\n",
    "if not os.path.exists(mask_folder):\n",
    "    os.makedirs(mask_folder)\n",
    "\n",
    "# Function to generate mask for an image\n",
    "def generate_mask(image_path):\n",
    "    img = cv2.imread(image_path, cv2.IMREAD_GRAYSCALE)  # Read the image in grayscale\n",
    "    _, binary_mask = cv2.threshold(img, 127, 255, cv2.THRESH_BINARY)  # Threshold the image to get a binary mask\n",
    "    return binary_mask\n",
    "\n",
    "# Generate masks for each image in the image folder\n",
    "for filename in os.listdir(image_folder):\n",
    "    if filename.endswith('.jpg') or filename.endswith('.png'):\n",
    "        image_path = os.path.join(image_folder, filename)\n",
    "        mask_path = os.path.join(mask_folder, filename.split('.')[0] + '_mask.png') \n",
    "        mask = generate_mask(image_path)\n",
    "        cv2.imwrite(mask_path, mask)  # Save the mask as PNG"
   ]
  },
  {
   "cell_type": "code",
   "execution_count": null,
   "id": "03e0fa56-b887-43af-a5fa-d06b16c94401",
   "metadata": {},
   "outputs": [],
   "source": []
  }
 ],
 "metadata": {
  "kernelspec": {
   "display_name": "Python 3 (ipykernel)",
   "language": "python",
   "name": "python3"
  },
  "language_info": {
   "codemirror_mode": {
    "name": "ipython",
    "version": 3
   },
   "file_extension": ".py",
   "mimetype": "text/x-python",
   "name": "python",
   "nbconvert_exporter": "python",
   "pygments_lexer": "ipython3",
   "version": "3.10.13"
  }
 },
 "nbformat": 4,
 "nbformat_minor": 5
}
