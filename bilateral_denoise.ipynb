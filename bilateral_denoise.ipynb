{
 "cells": [
  {
   "cell_type": "code",
   "execution_count": 1,
   "id": "de387dda-9240-4753-8b90-a06c09d2ffdf",
   "metadata": {},
   "outputs": [],
   "source": [
    "import cv2\n",
    "import os\n",
    "import numpy as np\n",
    "from skimage import io, img_as_float\n",
    "from skimage import img_as_ubyte\n",
    "from skimage.restoration import denoise_bilateral"
   ]
  },
  {
   "cell_type": "code",
   "execution_count": 2,
   "id": "9cddb659-1bc5-4b83-877c-a46c6b50b7ed",
   "metadata": {},
   "outputs": [],
   "source": [
    "#This is the File where your target images are\n",
    "input_dir = \"C:/Users/JohnC/Desktop/Molecule_Datasets/Original_Molecule_Dataset/EasyViewer_100/Wollastonite/5_wt_%_100/\"\n",
    "\n",
    "#This is the file where your new normalized images will be placed\n",
    "output_dir = \"C:/Users/JohnC/Desktop/Molecule_Datasets/Bilateral_Filtered_Dataset/EasyViewer_100/Wollastonite/5_wt_%_100/\""
   ]
  },
  {
   "cell_type": "code",
   "execution_count": 3,
   "id": "e4500430-50d8-4ea2-97b5-1e9ea8083276",
   "metadata": {},
   "outputs": [],
   "source": [
    "os.makedirs(output_dir, exist_ok=True)"
   ]
  },
  {
   "cell_type": "code",
   "execution_count": 4,
   "id": "ca8fac58-56ed-4c67-9026-fcfe6dddfdf1",
   "metadata": {},
   "outputs": [
    {
     "name": "stdout",
     "output_type": "stream",
     "text": [
      "Filtered image saved: C:/Users/JohnC/Desktop/Molecule_Datasets/Bilateral_Filtered_Dataset/EasyViewer_100/Wollastonite/5_wt_%_100/3) 3 Woll 5 (1).png\n",
      "Filtered image saved: C:/Users/JohnC/Desktop/Molecule_Datasets/Bilateral_Filtered_Dataset/EasyViewer_100/Wollastonite/5_wt_%_100/3) 3 Woll 5 (10).png\n",
      "Filtered image saved: C:/Users/JohnC/Desktop/Molecule_Datasets/Bilateral_Filtered_Dataset/EasyViewer_100/Wollastonite/5_wt_%_100/3) 3 Woll 5 (2).png\n",
      "Filtered image saved: C:/Users/JohnC/Desktop/Molecule_Datasets/Bilateral_Filtered_Dataset/EasyViewer_100/Wollastonite/5_wt_%_100/3) 3 Woll 5 (3).png\n",
      "Filtered image saved: C:/Users/JohnC/Desktop/Molecule_Datasets/Bilateral_Filtered_Dataset/EasyViewer_100/Wollastonite/5_wt_%_100/3) 3 Woll 5 (4).png\n",
      "Filtered image saved: C:/Users/JohnC/Desktop/Molecule_Datasets/Bilateral_Filtered_Dataset/EasyViewer_100/Wollastonite/5_wt_%_100/3) 3 Woll 5 (5).png\n",
      "Filtered image saved: C:/Users/JohnC/Desktop/Molecule_Datasets/Bilateral_Filtered_Dataset/EasyViewer_100/Wollastonite/5_wt_%_100/3) 3 Woll 5 (6).png\n",
      "Filtered image saved: C:/Users/JohnC/Desktop/Molecule_Datasets/Bilateral_Filtered_Dataset/EasyViewer_100/Wollastonite/5_wt_%_100/3) 3 Woll 5 (7).png\n",
      "Filtered image saved: C:/Users/JohnC/Desktop/Molecule_Datasets/Bilateral_Filtered_Dataset/EasyViewer_100/Wollastonite/5_wt_%_100/3) 3 Woll 5 (8).png\n",
      "Filtered image saved: C:/Users/JohnC/Desktop/Molecule_Datasets/Bilateral_Filtered_Dataset/EasyViewer_100/Wollastonite/5_wt_%_100/3) 3 Woll 5 (9).png\n"
     ]
    }
   ],
   "source": [
    "for filename in os.listdir(input_dir):\n",
    "    img_path = os.path.join(input_dir, filename)\n",
    "    img = cv2.imread(img_path, 0)\n",
    "\n",
    "    if img is None:\n",
    "        print(f\"Error: Unable to load image {filename}\")\n",
    "    else:\n",
    "        # Apply bilateral filter using skimage\n",
    "        bilateral_filtered = denoise_bilateral(img, sigma_color=0.05, sigma_spatial=15)\n",
    "\n",
    "        # Convert image to 8-bit unsigned integer format\n",
    "        bilateral_filtered_uint8 = img_as_ubyte(bilateral_filtered)\n",
    "    \n",
    "        # Save the filtered image to the output directory\n",
    "        output_path = os.path.join(output_dir, filename)\n",
    "        cv2.imwrite(output_path, bilateral_filtered_uint8)\n",
    "        print(f\"Filtered image saved: {output_path}\")\n"
   ]
  },
  {
   "cell_type": "code",
   "execution_count": null,
   "id": "968c7f82-ff3f-4ed1-b3db-12953007ac64",
   "metadata": {},
   "outputs": [],
   "source": []
  }
 ],
 "metadata": {
  "kernelspec": {
   "display_name": "Python 3 (ipykernel)",
   "language": "python",
   "name": "python3"
  },
  "language_info": {
   "codemirror_mode": {
    "name": "ipython",
    "version": 3
   },
   "file_extension": ".py",
   "mimetype": "text/x-python",
   "name": "python",
   "nbconvert_exporter": "python",
   "pygments_lexer": "ipython3",
   "version": "3.10.13"
  }
 },
 "nbformat": 4,
 "nbformat_minor": 5
}
